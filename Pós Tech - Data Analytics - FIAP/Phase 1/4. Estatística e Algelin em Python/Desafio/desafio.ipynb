{
 "cells": [
  {
   "cell_type": "markdown",
   "metadata": {},
   "source": [
    "Proposta\n",
    "Você foi recém chamado(a) para um processo seletivo pela empresa de consultoria FIAPMETRICS.\n",
    "\n",
    "A vaga consiste em integrar a equipe de Advanced Analytics, e foi proposto um teste técnico de nivelamento para que a empresa veja como podem avançar com você.\n",
    "\n",
    "O teste consiste em encontrar o polinômio cúbico através do método dos mínimos quadrados (MMQ) que passa pelos pontos: (−1,−10), (0,5), (1,6), (2,11) e (3,42).\n",
    "\n",
    "Utilize como base a equação geral do polinômio cúbico:\n",
    "\n",
    "AX³ + BX² + CX + D\n",
    "\n",
    "Plote o gráfico demonstrando esse polinômio cúbico que melhor se ajusta aos pontos dados.\n",
    "\n",
    "Está pronto(a) para aprofundar cada vez mais a sua habilidade de trabalhar matematicamente seus resultados?"
   ]
  }
 ],
 "metadata": {
  "language_info": {
   "name": "python"
  }
 },
 "nbformat": 4,
 "nbformat_minor": 2
}
