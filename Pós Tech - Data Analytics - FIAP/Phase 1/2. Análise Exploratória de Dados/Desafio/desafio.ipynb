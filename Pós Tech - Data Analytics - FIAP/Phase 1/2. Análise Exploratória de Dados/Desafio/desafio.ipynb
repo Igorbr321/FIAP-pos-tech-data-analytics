{
 "cells": [
  {
   "cell_type": "markdown",
   "metadata": {},
   "source": [
    "Importe o dataset \"winequality-red.csv\" que pode ser baixado no seguinte link: aqui.\n",
    "\n",
    "Utilize o Pandas para verificar a estrutura do dataset (número de linhas, colunas, tipos de dados das colunas, etc.).\n",
    "\n",
    "Limpe o dataset, removendo linhas duplicadas e tratando valores faltantes.\n",
    "\n",
    "Utilize o Matplotlib para visualizar as seguintes informações:\n",
    "\n",
    "    / a. Distribuição da acidez volátil por qualidade do vinho.\n",
    "    / b. Distribuição do teor alcoólico por qualidade do vinho.\n",
    "    / c. Relação entre acidez volátil e teor alcoólico.\n",
    "    / d. Relação entre teor alcoólico e qualidade do vinho.\n",
    "\n",
    "Analise os resultados e responda às seguintes perguntas:\n",
    "    / a. Qual a acidez volátil média dos vinhos de qualidade elevada?\n",
    "    / b. Qual a relação entre teor alcoólico e qualidade do vinho?\n",
    "    / c. Há alguma relação entre acidez volátil e teor alcoólico?\n",
    "    / d. Há alguma relação entre acidez volátil e qualidade do vinho?\n",
    "\n",
    "\n",
    "\n",
    "\n",
    "\n",
    "https://www.kaggle.com/datasets/rajyellow46/wine-quality?resource=download"
   ]
  },
  {
   "cell_type": "markdown",
   "metadata": {},
   "source": []
  }
 ],
 "metadata": {
  "language_info": {
   "name": "python"
  }
 },
 "nbformat": 4,
 "nbformat_minor": 2
}
