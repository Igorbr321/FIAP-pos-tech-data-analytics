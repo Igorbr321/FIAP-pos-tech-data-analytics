{
 "cells": [
  {
   "cell_type": "markdown",
   "metadata": {},
   "source": [
    "Análise de consistência dos dados:\n",
    "Utilize Pandas para verificar a qualidade dos dados.\n",
    "Visualização de dados:\n",
    "Use Matplotlib e Seaborn para criar gráficos e contar uma história com os dados.\n",
    "Formular uma hipótese estatística:\n",
    "Defina e teste uma hipótese relacionada ao abandono de colaboradores.\n",
    "Identificar o tipo de problema:\n",
    "Determine se o problema a ser resolvido é supervisionado ou não supervisionado.\n",
    "Construir um modelo preditivo:\n",
    "Desenvolva um modelo e explique a escolha do algoritmo, incluindo hiperparâmetros.\n",
    "Validar o modelo:\n",
    "Avalie o modelo usando métricas apropriadas."
   ]
  }
 ],
 "metadata": {
  "language_info": {
   "name": "python"
  }
 },
 "nbformat": 4,
 "nbformat_minor": 2
}
