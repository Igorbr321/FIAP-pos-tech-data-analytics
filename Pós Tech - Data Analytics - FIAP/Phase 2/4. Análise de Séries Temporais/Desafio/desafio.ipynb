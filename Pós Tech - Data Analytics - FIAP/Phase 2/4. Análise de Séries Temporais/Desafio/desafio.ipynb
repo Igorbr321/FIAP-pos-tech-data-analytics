{
 "cells": [
  {
   "cell_type": "markdown",
   "metadata": {},
   "source": [
    "O desafio prático envolve o uso de dados históricos de mudança climática para aplicar técnicas de análise de séries temporais. Os alunos devem focar em identificar tendências, sazonalidade e construir um algoritmo preditivo que seja capaz de prever futuras variações climáticas.\n",
    "\n",
    "Para mais detalhes sobre o desafio e como participar, você pode acessar o link fornecido pela FIAP na plataforma de cursos ou no material adicional da aula.\n",
    "\n",
    "[Link base de dados](https://www.kaggle.com/datasets/sumanthvrao/daily-climate-time-series-data)"
   ]
  }
 ],
 "metadata": {
  "language_info": {
   "name": "python"
  }
 },
 "nbformat": 4,
 "nbformat_minor": 2
}
