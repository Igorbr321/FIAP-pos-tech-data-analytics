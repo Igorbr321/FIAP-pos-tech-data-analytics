{
 "cells": [
  {
   "cell_type": "markdown",
   "metadata": {},
   "source": [
    "Base de Dados de Carros Usados\n",
    "A base de dados a ser utilizada contém informações sobre diferentes carros disponíveis no mercado. Geralmente, ela pode incluir, mas não se limita a:\n",
    "\n",
    "Modelo do Carro: O nome ou tipo do carro, como \"Sedan\", \"SUV\", etc.\n",
    "Ano de Fabricação: O ano em que o carro foi fabricado, o que pode influenciar sua desvalorização.\n",
    "Quilometragem: A quantidade de quilômetros que o carro já percorreu, importante para avaliar o desgaste.\n",
    "Preço: O preço de venda do carro, que é o principal alvo do modelo de regressão que será criado.\n",
    "Cor: A cor do carro, que pode ter impacto nas preferências do consumidor.\n",
    "Tipo de Combustível: Informações sobre se o carro é a gasolina, etanol, diesel, elétrico, etc.\n",
    "Número de Portas: A quantidade de portas que o carro possui, que pode influenciar a praticidade e uso familiar.\n",
    "Condição: Se o carro é novo, usado, ou recondicionado.\n",
    "\n",
    "\n",
    "Upload do Conjunto de Dados: Carregue o conjunto de dados de carros usados.\n",
    "Análise Estatística: Realize uma análise estatística inicial do conjunto de dados.\n",
    "Visualizações para Storytelling: Crie visualizações que ajudem a contar uma história com os dados.\n",
    "Formulação e Validação de Hipóteses: Formule hipóteses estatísticas e valide elas.\n",
    "Análise de Correlação: Verifique as correlações entre as variáveis do conjunto de dados.\n",
    "Criação de Modelo de Regressão: Construa um modelo de regressão com os dados.\n",
    "Avaliação do Potencial Prediti"
   ]
  }
 ],
 "metadata": {
  "language_info": {
   "name": "python"
  }
 },
 "nbformat": 4,
 "nbformat_minor": 2
}
